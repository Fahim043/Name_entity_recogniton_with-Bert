{
  "cells": [
    {
      "cell_type": "code",
      "execution_count": null,
      "id": "30e39901",
      "metadata": {
        "id": "30e39901"
      },
      "outputs": [],
      "source": [
        "import pandas as pd\n",
        "import numpy as np"
      ]
    },
    {
      "cell_type": "code",
      "source": [
        "# !pip install conllu"
      ],
      "metadata": {
        "colab": {
          "base_uri": "https://localhost:8080/"
        },
        "id": "PH2hdAsopAA_",
        "outputId": "cf8c6ae8-159c-471f-a08a-9785d07582c8"
      },
      "id": "PH2hdAsopAA_",
      "execution_count": null,
      "outputs": [
        {
          "output_type": "stream",
          "name": "stdout",
          "text": [
            "Looking in indexes: https://pypi.org/simple, https://us-python.pkg.dev/colab-wheels/public/simple/\n",
            "Requirement already satisfied: conllu in /usr/local/lib/python3.10/dist-packages (4.5.2)\n"
          ]
        }
      ]
    },
    {
      "cell_type": "code",
      "execution_count": null,
      "id": "e5311f70",
      "metadata": {
        "colab": {
          "base_uri": "https://localhost:8080/"
        },
        "id": "e5311f70",
        "outputId": "e4eb1091-3d5f-4911-8aa5-4201e2d1715e"
      },
      "outputs": [
        {
          "output_type": "execute_result",
          "data": {
            "text/plain": [
              "['# id 309f5b26-951e-472b-948e-47632249862b\\tdomain=en',\n",
              " 'robert _ _ B-OtherPER',\n",
              " 'gottschalk _ _ I-OtherPER',\n",
              " '1939 _ _ O',\n",
              " 'academy _ _ B-VisualWork',\n",
              " 'award _ _ I-VisualWork',\n",
              " 'winner _ _ O',\n",
              " 'and _ _ O',\n",
              " 'founder _ _ O',\n",
              " 'of _ _ O',\n",
              " 'panavision _ _ B-ORG',\n",
              " '',\n",
              " '',\n",
              " '# id bb81b9a7-e73d-4977-b6a8-0f7937123dfe\\tdomain=en',\n",
              " 'during _ _ O',\n",
              " 'the _ _ O',\n",
              " 'reign _ _ O',\n",
              " 'of _ _ O',\n",
              " 'the _ _ O',\n",
              " 'tongzhi _ _ B-OtherPER',\n",
              " 'emperor _ _ I-OtherPER',\n",
              " '( _ _ O',\n",
              " 'r _ _ O',\n",
              " '. _ _ O',\n",
              " '1861 _ _ O',\n",
              " '– _ _ O',\n",
              " '1875 _ _ O',\n",
              " ') _ _ O',\n",
              " ': _ _ O',\n",
              " '',\n",
              " '',\n",
              " '# id d79d2f50-bf45-47c5-96b5-73c3d0ce8914\\tdomain=en',\n",
              " 'further _ _ O',\n",
              " 'research _ _ O',\n",
              " 'led _ _ O',\n",
              " 'in _ _ O',\n",
              " 'the _ _ O',\n",
              " '1960s _ _ O',\n",
              " 'to _ _ O',\n",
              " 'the _ _ O',\n",
              " 'bahadur _ _ B-OtherPER',\n",
              " 'representation _ _ O',\n",
              " 'which _ _ O',\n",
              " 'provides _ _ O',\n",
              " 'information _ _ O',\n",
              " 'about _ _ O',\n",
              " 'the _ _ O',\n",
              " 'errorbounds _ _ O',\n",
              " '. _ _ O',\n",
              " '',\n",
              " '',\n",
              " '# id 6a65789e-e0ff-4263-8bd7-e56b836854c6\\tdomain=en',\n",
              " 'the _ _ O',\n",
              " 'ideas _ _ O',\n",
              " 'were _ _ O',\n",
              " 'introduced _ _ O',\n",
              " 'by _ _ O',\n",
              " 'william _ _ B-OtherPER',\n",
              " 'burnside _ _ I-OtherPER',\n",
              " 'at _ _ O',\n",
              " 'the _ _ O',\n",
              " 'end _ _ O',\n",
              " 'of _ _ O',\n",
              " 'the _ _ O',\n",
              " 'nineteenth _ _ O',\n",
              " 'century _ _ O',\n",
              " '. _ _ O',\n",
              " '',\n",
              " '',\n",
              " '# id f3723a6e-426a-4bd3-aa54-41158fab71f2\\tdomain=en',\n",
              " 'thaddeus _ _ B-OtherPER',\n",
              " 'mosley _ _ I-OtherPER',\n",
              " '( _ _ O',\n",
              " 'a&s _ _ O',\n",
              " '1950 _ _ O',\n",
              " ') _ _ O',\n",
              " '– _ _ O',\n",
              " 'sculptor _ _ O',\n",
              " 'who _ _ O',\n",
              " 'works _ _ O',\n",
              " 'mostly _ _ O',\n",
              " 'in _ _ O',\n",
              " 'wood _ _ O',\n",
              " '',\n",
              " '',\n",
              " '# id d82dc38c-9293-485a-8731-1fb3579365e2\\tdomain=en',\n",
              " 'the _ _ O',\n",
              " 'alphabet _ _ O',\n",
              " 'was _ _ O',\n",
              " 'reworked _ _ O',\n",
              " 'by _ _ O',\n",
              " 'sarsen _ _ B-OtherPER',\n",
              " 'amanzholov _ _ I-OtherPER',\n",
              " 'and _ _ O',\n",
              " 'accepted _ _ O',\n",
              " 'in _ _ O',\n",
              " 'its _ _ O',\n",
              " 'current _ _ O',\n",
              " 'form _ _ O',\n",
              " 'in _ _ O',\n",
              " '1940 _ _ O',\n",
              " '. _ _ O',\n",
              " '',\n",
              " '',\n",
              " '# id e975a567-f01e-48b0-a24b-14bdbcba04a4\\tdomain=en',\n",
              " 'alicia _ _ B-OtherPER',\n",
              " 'gali _ _ I-OtherPER',\n",
              " 'was _ _ O',\n",
              " 'imprisoned _ _ O',\n",
              " 'for _ _ O',\n",
              " 'eight _ _ O',\n",
              " 'months _ _ O',\n",
              " 'for _ _ O',\n",
              " 'sex _ _ O',\n",
              " 'outside _ _ O',\n",
              " 'of _ _ O',\n",
              " 'marriage _ _ O',\n",
              " 'after _ _ O',\n",
              " 'reporting _ _ O',\n",
              " 'an _ _ O',\n",
              " 'assault _ _ O',\n",
              " 'by _ _ O',\n",
              " 'her _ _ O',\n",
              " 'co _ _ O',\n",
              " 'workers _ _ O',\n",
              " '. _ _ O',\n",
              " '',\n",
              " '',\n",
              " '# id 809ca849-1804-486c-9dbc-ea3fee47fdef\\tdomain=en',\n",
              " 'he _ _ O',\n",
              " 'is _ _ O',\n",
              " 'voiced _ _ O',\n",
              " 'by _ _ O',\n",
              " 'mitsuko _ _ B-Artist',\n",
              " 'horie _ _ I-Artist',\n",
              " 'in _ _ O',\n",
              " 'the _ _ O',\n",
              " 'first _ _ O',\n",
              " 'anime _ _ O',\n",
              " 'and _ _ O',\n",
              " 'by _ _ O',\n",
              " 'motoko _ _ B-OtherPER',\n",
              " 'kumai _ _ I-OtherPER',\n",
              " 'in _ _ O',\n",
              " 'the _ _ O',\n",
              " 'second _ _ O',\n",
              " '. _ _ O',\n",
              " '',\n",
              " '',\n",
              " '# id 866ea8e6-be62-4268-a797-80688f4a47f3\\tdomain=en',\n",
              " 'his _ _ O',\n",
              " 'musical _ _ O',\n",
              " 'style _ _ O',\n",
              " 'has _ _ O',\n",
              " 'been _ _ O',\n",
              " 'described _ _ O',\n",
              " 'as _ _ O',\n",
              " 'being _ _ O',\n",
              " 'similar _ _ O',\n",
              " 'to _ _ O',\n",
              " 'that _ _ O',\n",
              " 'of _ _ O',\n",
              " 'telemann _ _ B-OtherPER',\n",
              " '. _ _ O',\n",
              " '',\n",
              " '',\n",
              " '# id 273aa283-9bb0-42d3-9f46-1daad90565ef\\tdomain=en',\n",
              " 'it _ _ O',\n",
              " 'was _ _ O',\n",
              " 'described _ _ O',\n",
              " 'by _ _ O',\n",
              " 'edward _ _ B-OtherPER',\n",
              " 'meyrick _ _ I-OtherPER',\n",
              " 'in _ _ O',\n",
              " '1935 _ _ O',\n",
              " '. _ _ O',\n",
              " '',\n",
              " '',\n",
              " '# id 38737a54-44ea-4cee-b1ce-1029775a7869\\tdomain=en',\n",
              " 'the _ _ O',\n",
              " 'role _ _ O',\n",
              " 'of _ _ O',\n",
              " 'coroner _ _ O',\n",
              " 'for _ _ O',\n",
              " 'the _ _ O',\n",
              " 'inquests _ _ O',\n",
              " 'was _ _ O',\n",
              " 'transferred _ _ O',\n",
              " 'to _ _ O',\n",
              " 'lord _ _ B-OtherPER',\n",
              " 'justice _ _ I-OtherPER',\n",
              " 'scott _ _ I-OtherPER',\n",
              " 'baker _ _ I-OtherPER',\n",
              " '. _ _ O',\n",
              " '',\n",
              " '',\n",
              " '# id cc7237b8-e586-47a0-bd7d-5855a4e6d2ff\\tdomain=en',\n",
              " 'grace _ _ B-OtherPER',\n",
              " 'carley _ _ I-OtherPER',\n",
              " 'harriman _ _ I-OtherPER',\n",
              " 'social _ _ O',\n",
              " 'leader _ _ O',\n",
              " 'and _ _ O',\n",
              " 'philanthropist _ _ O',\n",
              " '',\n",
              " '',\n",
              " '# id 9f92c9f9-b366-468e-a9e6-f99492afb0fb\\tdomain=en',\n",
              " 'with _ _ O',\n",
              " 'regular _ _ O',\n",
              " 'jockey _ _ O',\n",
              " 'barry _ _ B-OtherPER',\n",
              " 'geraghty _ _ I-OtherPER',\n",
              " 'back _ _ O',\n",
              " 'on _ _ O',\n",
              " 'board _ _ O',\n",
              " 'he _ _ O',\n",
              " 'raced _ _ O',\n",
              " 'near _ _ O',\n",
              " 'the _ _ O',\n",
              " 'front _ _ O',\n",
              " 'of _ _ O',\n",
              " 'the _ _ O',\n",
              " 'ten _ _ O',\n",
              " 'runner _ _ O',\n",
              " 'field _ _ O',\n",
              " 'throughout _ _ O',\n",
              " 'the _ _ O',\n",
              " 'race _ _ O',\n",
              " '. _ _ O',\n",
              " '',\n",
              " '',\n",
              " '# id 07ed0448-4651-4bfa-b2a2-484c233bdf60\\tdomain=en',\n",
              " 'jointly _ _ O',\n",
              " 'with _ _ O',\n",
              " 'robert _ _ B-OtherPER',\n",
              " 'gompf _ _ I-OtherPER',\n",
              " 'he _ _ O',\n",
              " 'discovered _ _ O',\n",
              " 'four _ _ O',\n",
              " 'dimensional _ _ O',\n",
              " 'models _ _ O',\n",
              " 'of _ _ O',\n",
              " 'space _ _ O',\n",
              " 'time _ _ O',\n",
              " 'topology _ _ O',\n",
              " '. _ _ O',\n",
              " '',\n",
              " '',\n",
              " '# id cc26e65b-572c-4771-b64e-4f1bd5ad2a5d\\tdomain=en',\n",
              " 'at _ _ O',\n",
              " 'the _ _ O',\n",
              " 'start _ _ O',\n",
              " 'of _ _ O',\n",
              " 'the _ _ O',\n",
              " 'season _ _ O',\n",
              " 'president _ _ O',\n",
              " 'ali _ _ B-OtherPER',\n",
              " 'kahramanlı _ _ I-OtherPER',\n",
              " 'continued _ _ O',\n",
              " 'in _ _ O',\n",
              " 'his _ _ O',\n",
              " 'position _ _ O',\n",
              " 'which _ _ O',\n",
              " 'he _ _ O',\n",
              " 'held _ _ O',\n",
              " 'in _ _ O',\n",
              " '2008 _ _ O',\n",
              " '. _ _ O',\n",
              " '',\n",
              " '',\n",
              " '# id 5bf4762f-a06c-47ca-b9ee-51a337e87190\\tdomain=en',\n",
              " 'at _ _ O',\n",
              " 'the _ _ O',\n",
              " 'beginning _ _ O',\n",
              " 'of _ _ O',\n",
              " 'the _ _ O',\n",
              " 'twentieth _ _ O',\n",
              " 'century _ _ O',\n",
              " 'pieter _ _ B-OtherPER',\n",
              " 'hendrik _ _ I-OtherPER',\n",
              " 'schoute _ _ I-OtherPER',\n",
              " 'started _ _ O',\n",
              " 'to _ _ O',\n",
              " 'work _ _ O',\n",
              " 'on _ _ O',\n",
              " 'polytopes _ _ O',\n",
              " 'together _ _ O',\n",
              " 'with _ _ O',\n",
              " 'alicia _ _ B-OtherPER',\n",
              " 'boole _ _ I-OtherPER',\n",
              " 'stott _ _ I-OtherPER',\n",
              " '. _ _ O',\n",
              " '',\n",
              " '',\n",
              " '# id 8fbdba18-3ccc-4c8d-ba09-9d106bb05b04\\tdomain=en',\n",
              " 'harry _ _ B-OtherPER',\n",
              " 'peeters _ _ I-OtherPER',\n",
              " '( _ _ O',\n",
              " '1931 _ _ O',\n",
              " '2012 _ _ O',\n",
              " ') _ _ O',\n",
              " 'a _ _ O',\n",
              " 'historian _ _ O',\n",
              " 'psychologist _ _ O',\n",
              " 'and _ _ O',\n",
              " 'academic _ _ O',\n",
              " '',\n",
              " '',\n",
              " '# id 96462f5f-7eca-4ec5-b586-de648c92f9d9\\tdomain=en',\n",
              " 'chandraprabha _ _ B-OtherPER',\n",
              " 'aitwal _ _ I-OtherPER',\n",
              " 'is _ _ O',\n",
              " 'the _ _ O',\n",
              " 'only _ _ O',\n",
              " 'double _ _ O',\n",
              " 'recipient _ _ O',\n",
              " 'of _ _ O',\n",
              " 'the _ _ O',\n",
              " 'award _ _ O',\n",
              " 'in _ _ O',\n",
              " '1994 _ _ O',\n",
              " 'for _ _ O',\n",
              " 'land _ _ O',\n",
              " 'adventure _ _ O',\n",
              " 'and _ _ O',\n",
              " 'in _ _ O',\n",
              " '2009 _ _ O',\n",
              " 'for _ _ O',\n",
              " 'lifetime _ _ O',\n",
              " 'achievement _ _ O',\n",
              " '. _ _ O',\n",
              " '',\n",
              " '',\n",
              " '# id e382c495-5e73-4500-840d-71c35099715b\\tdomain=en',\n",
              " 'yanping _ _ O',\n",
              " 'era _ _ O',\n",
              " 'name _ _ O',\n",
              " 'used _ _ O',\n",
              " 'by _ _ O',\n",
              " 'emperor _ _ B-OtherPER',\n",
              " 'shang _ _ I-OtherPER',\n",
              " 'of _ _ I-OtherPER',\n",
              " 'han _ _ I-OtherPER',\n",
              " '',\n",
              " '',\n",
              " '# id 40859796-baeb-4043-8de1-dbba96f6bbd7\\tdomain=en',\n",
              " 'the _ _ O',\n",
              " 'grave _ _ O',\n",
              " 'of _ _ O',\n",
              " 'the _ _ O',\n",
              " 'well _ _ O',\n",
              " 'known _ _ O',\n",
              " 'painter _ _ O',\n",
              " 'kamal-ol-molk _ _ B-OtherPER',\n",
              " 'is _ _ O',\n",
              " 'also _ _ O',\n",
              " 'situated _ _ O',\n",
              " 'in _ _ O',\n",
              " 'a _ _ O',\n",
              " 'part _ _ O',\n",
              " 'of _ _ O',\n",
              " 'this _ _ O',\n",
              " 'garden _ _ O',\n",
              " '. _ _ O',\n",
              " '',\n",
              " '',\n",
              " '# id 62b5fcfe-7711-4fa6-a5c2-971d73d26d6f\\tdomain=en',\n",
              " 'he _ _ O',\n",
              " 'put _ _ O',\n",
              " 'in _ _ O',\n",
              " 'command _ _ O',\n",
              " 'of _ _ O',\n",
              " 'the _ _ O',\n",
              " 'army _ _ O',\n",
              " 'his _ _ O',\n",
              " 'best _ _ O',\n",
              " 'general _ _ O',\n",
              " 'khalid _ _ B-OtherPER',\n",
              " 'ibn _ _ I-OtherPER',\n",
              " 'al-walid _ _ I-OtherPER',\n",
              " '. _ _ O',\n",
              " '',\n",
              " '',\n",
              " '# id 6ad4f80e-db93-49f7-8013-52109cd94181\\tdomain=en',\n",
              " 'the _ _ O',\n",
              " 'program _ _ O',\n",
              " 'was _ _ O',\n",
              " 'chaired _ _ O',\n",
              " 'by _ _ O',\n",
              " 'kenneth _ _ B-OtherPER',\n",
              " 'brown _ _ I-OtherPER',\n",
              " 'from _ _ O',\n",
              " '1980 _ _ O',\n",
              " 'until _ _ O',\n",
              " '2005 _ _ O',\n",
              " '. _ _ O',\n",
              " '',\n",
              " '',\n",
              " '# id cefdbf35-160b-4a1f-aaf5-e43b8ad34340\\tdomain=en',\n",
              " 'the _ _ O',\n",
              " 'bronze _ _ O',\n",
              " 'statue _ _ O',\n",
              " 'is _ _ O',\n",
              " 'based _ _ O',\n",
              " 'on _ _ O',\n",
              " 'a _ _ O',\n",
              " 'clay _ _ O',\n",
              " 'model _ _ O',\n",
              " 'made _ _ O',\n",
              " 'in _ _ O',\n",
              " '1681 _ _ O',\n",
              " 'by _ _ O',\n",
              " 'matthias _ _ B-OtherPER',\n",
              " 'rauchmiller _ _ I-OtherPER',\n",
              " '. _ _ O',\n",
              " '',\n",
              " '',\n",
              " '# id 3e961cca-9aaa-433f-b45c-49b68b96972c\\tdomain=en',\n",
              " 'stephen _ _ B-OtherPER',\n",
              " 'w. _ _ I-OtherPER',\n",
              " 'thompson _ _ I-OtherPER',\n",
              " '( _ _ O',\n",
              " '1894 _ _ O',\n",
              " '– _ _ O',\n",
              " '1977 _ _ O',\n",
              " ') _ _ O',\n",
              " 'first _ _ O',\n",
              " 'u.s. _ _ O',\n",
              " 'military _ _ O',\n",
              " 'pilot _ _ O',\n",
              " 'to _ _ O',\n",
              " 'ever _ _ O',\n",
              " 'shoot _ _ O',\n",
              " 'down _ _ O',\n",
              " 'an _ _ O',\n",
              " 'enemy _ _ O',\n",
              " 'in _ _ O',\n",
              " 'aerial _ _ O',\n",
              " 'combat _ _ O',\n",
              " '',\n",
              " '',\n",
              " '# id b002932e-4b15-4ba4-acd1-0e7e38213d7a\\tdomain=en',\n",
              " 'edward _ _ B-OtherPER',\n",
              " 'weston _ _ I-OtherPER',\n",
              " 'chemist _ _ O',\n",
              " 'and _ _ O',\n",
              " 'engineer _ _ O',\n",
              " 'competitor _ _ O',\n",
              " 'with _ _ O',\n",
              " 'thomas _ _ B-Artist',\n",
              " 'edison _ _ I-Artist',\n",
              " '',\n",
              " '',\n",
              " '# id 473dcf93-8705-4ec8-b7cb-2b39bed762e5\\tdomain=en',\n",
              " 'it _ _ O',\n",
              " 'was _ _ O',\n",
              " 'described _ _ O',\n",
              " 'by _ _ O',\n",
              " 'francis _ _ B-OtherPER',\n",
              " 'walker _ _ I-OtherPER',\n",
              " 'in _ _ O',\n",
              " '1866 _ _ O',\n",
              " 'and _ _ O',\n",
              " 'is _ _ O',\n",
              " 'known _ _ O',\n",
              " 'from _ _ O',\n",
              " 'india _ _ B-HumanSettlement',\n",
              " '. _ _ O',\n",
              " '',\n",
              " '',\n",
              " '# id c7d1949e-5736-4a3d-9fff-b0b4e1dfe6f5\\tdomain=en',\n",
              " 'joe _ _ B-OtherPER',\n",
              " 'albi _ _ I-OtherPER',\n",
              " 'attorney _ _ O',\n",
              " 'and _ _ O',\n",
              " 'civic _ _ O',\n",
              " 'leader _ _ O',\n",
              " '',\n",
              " '',\n",
              " '# id 2c40287b-86d1-42a1-9e49-d436506280a0\\tdomain=en',\n",
              " 'suzanne _ _ B-OtherPER',\n",
              " 'falkiner _ _ I-OtherPER',\n",
              " '( _ _ O',\n",
              " 'born _ _ O',\n",
              " '1952 _ _ O',\n",
              " ') _ _ O',\n",
              " 'novelist _ _ O',\n",
              " 'and _ _ O',\n",
              " 'non _ _ O',\n",
              " 'fiction _ _ O',\n",
              " 'writer _ _ O',\n",
              " '',\n",
              " '',\n",
              " '# id acc27228-5aac-48d2-872d-a5611c6fc2c8\\tdomain=en',\n",
              " 'bar _ _ O',\n",
              " ': _ _ O',\n",
              " 'dubie _ _ O',\n",
              " 'from _ _ O',\n",
              " ': _ _ O',\n",
              " '2012 _ _ O']"
            ]
          },
          "metadata": {},
          "execution_count": 396
        }
      ],
      "source": [
        "import io\n",
        "from conllu import parse_incr\n",
        "\n",
        "with io.open(\"/content/en-train.conllu\", \"r\", encoding=\"utf-8\") as f:\n",
        "    data = f.read()\n",
        "sentences = data.strip().split(\"\\n\")\n",
        "# for sentence in sentences:\n",
        "#     # Parse the sentence using the parse_incr() function\n",
        "#     tokenlist = parse_incr(io.StringIO(sentence))\n",
        "#     print(tokenlist)\n",
        "\n",
        "a=sentences[0:500]\n",
        "a"
      ]
    },
    {
      "cell_type": "code",
      "execution_count": null,
      "id": "c25a35db",
      "metadata": {
        "colab": {
          "base_uri": "https://localhost:8080/"
        },
        "id": "c25a35db",
        "outputId": "5f175204-475e-42d0-f389-0e0c7ceccca7"
      },
      "outputs": [
        {
          "output_type": "stream",
          "name": "stdout",
          "text": [
            "[['robert _ _ B-OtherPER', 'gottschalk _ _ I-OtherPER', '1939 _ _ O', 'academy _ _ B-VisualWork', 'award _ _ I-VisualWork', 'winner _ _ O', 'and _ _ O', 'founder _ _ O', 'of _ _ O', 'panavision _ _ B-ORG', '', ''], ['during _ _ O', 'the _ _ O', 'reign _ _ O', 'of _ _ O', 'the _ _ O', 'tongzhi _ _ B-OtherPER', 'emperor _ _ I-OtherPER', '( _ _ O', 'r _ _ O', '. _ _ O', '1861 _ _ O', '– _ _ O', '1875 _ _ O', ') _ _ O', ': _ _ O', '', ''], ['further _ _ O', 'research _ _ O', 'led _ _ O', 'in _ _ O', 'the _ _ O', '1960s _ _ O', 'to _ _ O', 'the _ _ O', 'bahadur _ _ B-OtherPER', 'representation _ _ O', 'which _ _ O', 'provides _ _ O', 'information _ _ O', 'about _ _ O', 'the _ _ O', 'errorbounds _ _ O', '. _ _ O', '', ''], ['the _ _ O', 'ideas _ _ O', 'were _ _ O', 'introduced _ _ O', 'by _ _ O', 'william _ _ B-OtherPER', 'burnside _ _ I-OtherPER', 'at _ _ O', 'the _ _ O', 'end _ _ O', 'of _ _ O', 'the _ _ O', 'nineteenth _ _ O', 'century _ _ O', '. _ _ O', '', ''], ['thaddeus _ _ B-OtherPER', 'mosley _ _ I-OtherPER', '( _ _ O', 'a&s _ _ O', '1950 _ _ O', ') _ _ O', '– _ _ O', 'sculptor _ _ O', 'who _ _ O', 'works _ _ O', 'mostly _ _ O', 'in _ _ O', 'wood _ _ O', '', ''], ['the _ _ O', 'alphabet _ _ O', 'was _ _ O', 'reworked _ _ O', 'by _ _ O', 'sarsen _ _ B-OtherPER', 'amanzholov _ _ I-OtherPER', 'and _ _ O', 'accepted _ _ O', 'in _ _ O', 'its _ _ O', 'current _ _ O', 'form _ _ O', 'in _ _ O', '1940 _ _ O', '. _ _ O', '', ''], ['alicia _ _ B-OtherPER', 'gali _ _ I-OtherPER', 'was _ _ O', 'imprisoned _ _ O', 'for _ _ O', 'eight _ _ O', 'months _ _ O', 'for _ _ O', 'sex _ _ O', 'outside _ _ O', 'of _ _ O', 'marriage _ _ O', 'after _ _ O', 'reporting _ _ O', 'an _ _ O', 'assault _ _ O', 'by _ _ O', 'her _ _ O', 'co _ _ O', 'workers _ _ O', '. _ _ O', '', ''], ['he _ _ O', 'is _ _ O', 'voiced _ _ O', 'by _ _ O', 'mitsuko _ _ B-Artist', 'horie _ _ I-Artist', 'in _ _ O', 'the _ _ O', 'first _ _ O', 'anime _ _ O', 'and _ _ O', 'by _ _ O', 'motoko _ _ B-OtherPER', 'kumai _ _ I-OtherPER', 'in _ _ O', 'the _ _ O', 'second _ _ O', '. _ _ O', '', ''], ['his _ _ O', 'musical _ _ O', 'style _ _ O', 'has _ _ O', 'been _ _ O', 'described _ _ O', 'as _ _ O', 'being _ _ O', 'similar _ _ O', 'to _ _ O', 'that _ _ O', 'of _ _ O', 'telemann _ _ B-OtherPER', '. _ _ O', '', ''], ['it _ _ O', 'was _ _ O', 'described _ _ O', 'by _ _ O', 'edward _ _ B-OtherPER', 'meyrick _ _ I-OtherPER', 'in _ _ O', '1935 _ _ O', '. _ _ O', '', ''], ['the _ _ O', 'role _ _ O', 'of _ _ O', 'coroner _ _ O', 'for _ _ O', 'the _ _ O', 'inquests _ _ O', 'was _ _ O', 'transferred _ _ O', 'to _ _ O', 'lord _ _ B-OtherPER', 'justice _ _ I-OtherPER', 'scott _ _ I-OtherPER', 'baker _ _ I-OtherPER', '. _ _ O', '', ''], ['grace _ _ B-OtherPER', 'carley _ _ I-OtherPER', 'harriman _ _ I-OtherPER', 'social _ _ O', 'leader _ _ O', 'and _ _ O', 'philanthropist _ _ O', '', ''], ['with _ _ O', 'regular _ _ O', 'jockey _ _ O', 'barry _ _ B-OtherPER', 'geraghty _ _ I-OtherPER', 'back _ _ O', 'on _ _ O', 'board _ _ O', 'he _ _ O', 'raced _ _ O', 'near _ _ O', 'the _ _ O', 'front _ _ O', 'of _ _ O', 'the _ _ O', 'ten _ _ O', 'runner _ _ O', 'field _ _ O', 'throughout _ _ O', 'the _ _ O', 'race _ _ O', '. _ _ O', '', ''], ['jointly _ _ O', 'with _ _ O', 'robert _ _ B-OtherPER', 'gompf _ _ I-OtherPER', 'he _ _ O', 'discovered _ _ O', 'four _ _ O', 'dimensional _ _ O', 'models _ _ O', 'of _ _ O', 'space _ _ O', 'time _ _ O', 'topology _ _ O', '. _ _ O', '', ''], ['at _ _ O', 'the _ _ O', 'start _ _ O', 'of _ _ O', 'the _ _ O', 'season _ _ O', 'president _ _ O', 'ali _ _ B-OtherPER', 'kahramanlı _ _ I-OtherPER', 'continued _ _ O', 'in _ _ O', 'his _ _ O', 'position _ _ O', 'which _ _ O', 'he _ _ O', 'held _ _ O', 'in _ _ O', '2008 _ _ O', '. _ _ O', '', ''], ['at _ _ O', 'the _ _ O', 'beginning _ _ O', 'of _ _ O', 'the _ _ O', 'twentieth _ _ O', 'century _ _ O', 'pieter _ _ B-OtherPER', 'hendrik _ _ I-OtherPER', 'schoute _ _ I-OtherPER', 'started _ _ O', 'to _ _ O', 'work _ _ O', 'on _ _ O', 'polytopes _ _ O', 'together _ _ O', 'with _ _ O', 'alicia _ _ B-OtherPER', 'boole _ _ I-OtherPER', 'stott _ _ I-OtherPER', '. _ _ O', '', ''], ['harry _ _ B-OtherPER', 'peeters _ _ I-OtherPER', '( _ _ O', '1931 _ _ O', '2012 _ _ O', ') _ _ O', 'a _ _ O', 'historian _ _ O', 'psychologist _ _ O', 'and _ _ O', 'academic _ _ O', '', ''], ['chandraprabha _ _ B-OtherPER', 'aitwal _ _ I-OtherPER', 'is _ _ O', 'the _ _ O', 'only _ _ O', 'double _ _ O', 'recipient _ _ O', 'of _ _ O', 'the _ _ O', 'award _ _ O', 'in _ _ O', '1994 _ _ O', 'for _ _ O', 'land _ _ O', 'adventure _ _ O', 'and _ _ O', 'in _ _ O', '2009 _ _ O', 'for _ _ O', 'lifetime _ _ O', 'achievement _ _ O', '. _ _ O', '', ''], ['yanping _ _ O', 'era _ _ O', 'name _ _ O', 'used _ _ O', 'by _ _ O', 'emperor _ _ B-OtherPER', 'shang _ _ I-OtherPER', 'of _ _ I-OtherPER', 'han _ _ I-OtherPER', '', ''], ['the _ _ O', 'grave _ _ O', 'of _ _ O', 'the _ _ O', 'well _ _ O', 'known _ _ O', 'painter _ _ O', 'kamal-ol-molk _ _ B-OtherPER', 'is _ _ O', 'also _ _ O', 'situated _ _ O', 'in _ _ O', 'a _ _ O', 'part _ _ O', 'of _ _ O', 'this _ _ O', 'garden _ _ O', '. _ _ O', '', ''], ['he _ _ O', 'put _ _ O', 'in _ _ O', 'command _ _ O', 'of _ _ O', 'the _ _ O', 'army _ _ O', 'his _ _ O', 'best _ _ O', 'general _ _ O', 'khalid _ _ B-OtherPER', 'ibn _ _ I-OtherPER', 'al-walid _ _ I-OtherPER', '. _ _ O', '', ''], ['the _ _ O', 'program _ _ O', 'was _ _ O', 'chaired _ _ O', 'by _ _ O', 'kenneth _ _ B-OtherPER', 'brown _ _ I-OtherPER', 'from _ _ O', '1980 _ _ O', 'until _ _ O', '2005 _ _ O', '. _ _ O', '', ''], ['the _ _ O', 'bronze _ _ O', 'statue _ _ O', 'is _ _ O', 'based _ _ O', 'on _ _ O', 'a _ _ O', 'clay _ _ O', 'model _ _ O', 'made _ _ O', 'in _ _ O', '1681 _ _ O', 'by _ _ O', 'matthias _ _ B-OtherPER', 'rauchmiller _ _ I-OtherPER', '. _ _ O', '', ''], ['stephen _ _ B-OtherPER', 'w. _ _ I-OtherPER', 'thompson _ _ I-OtherPER', '( _ _ O', '1894 _ _ O', '– _ _ O', '1977 _ _ O', ') _ _ O', 'first _ _ O', 'u.s. _ _ O', 'military _ _ O', 'pilot _ _ O', 'to _ _ O', 'ever _ _ O', 'shoot _ _ O', 'down _ _ O', 'an _ _ O', 'enemy _ _ O', 'in _ _ O', 'aerial _ _ O', 'combat _ _ O', '', ''], ['edward _ _ B-OtherPER', 'weston _ _ I-OtherPER', 'chemist _ _ O', 'and _ _ O', 'engineer _ _ O', 'competitor _ _ O', 'with _ _ O', 'thomas _ _ B-Artist', 'edison _ _ I-Artist', '', ''], ['it _ _ O', 'was _ _ O', 'described _ _ O', 'by _ _ O', 'francis _ _ B-OtherPER', 'walker _ _ I-OtherPER', 'in _ _ O', '1866 _ _ O', 'and _ _ O', 'is _ _ O', 'known _ _ O', 'from _ _ O', 'india _ _ B-HumanSettlement', '. _ _ O', '', ''], ['joe _ _ B-OtherPER', 'albi _ _ I-OtherPER', 'attorney _ _ O', 'and _ _ O', 'civic _ _ O', 'leader _ _ O', '', ''], ['suzanne _ _ B-OtherPER', 'falkiner _ _ I-OtherPER', '( _ _ O', 'born _ _ O', '1952 _ _ O', ') _ _ O', 'novelist _ _ O', 'and _ _ O', 'non _ _ O', 'fiction _ _ O', 'writer _ _ O', '', ''], ['bar _ _ O', ': _ _ O', 'dubie _ _ O', 'from _ _ O', ': _ _ O', '2012 _ _ O', 'till _ _ O', ': _ _ O', '2015 _ _ O', 'color _ _ O', ': _ _ O', 'joint _ _ O', 'text _ _ O', ': _ _ O', 'michael _ _ B-OtherPER', 'd. _ _ I-OtherPER', 'dubie _ _ I-OtherPER', '', ''], ['they _ _ O', 'also _ _ O', 'became _ _ O', 'best _ _ O', 'friends _ _ O', 'with _ _ O', 'peter _ _ B-OtherPER', 'pettigrew _ _ I-OtherPER', 'and _ _ O', 'remus _ _ B-OtherPER', 'lupin _ _ I-OtherPER', 'whom _ _ O', 'they _ _ O', 'later _ _ O', 'discovered _ _ O', 'was _ _ O', 'a _ _ O', 'werewolf _ _ O', '. _ _ O', '', ''], ['the _ _ O', 'duke _ _ B-OtherPER', 'of _ _ I-OtherPER', 'edinburgh _ _ I-OtherPER', 'visited _ _ O', 'the _ _ O', 'island _ _ O', 'in _ _ O', '1958 _ _ O', '. _ _ O', '', ''], ['her _ _ O', 'daughter _ _ O', 'is _ _ O', 'raised _ _ O', 'as _ _ O', 'yang _ _ B-OtherPER', 'lihua _ _ I-OtherPER', 'and _ _ O', 'marries _ _ O', 'emperor _ _ B-OtherPER', 'xuan _ _ I-OtherPER', '. _ _ O', '', ''], ['he _ _ O', 'studied _ _ O', 'as _ _ O', 'a _ _ O', 'pupil _ _ O', 'of _ _ O', 'abraham _ _ B-OtherPER', 'harrison _ _ I-OtherPER', 'goodall _ _ I-OtherPER', 'for _ _ O', '5 _ _ O', 'years _ _ O', 'and _ _ O', 'then _ _ O', 'remained _ _ O', 'in _ _ O', 'this _ _ O', 'practice _ _ O', 'as _ _ O', 'his _ _ O', 'assistant _ _ O', 'for _ _ O', 'another _ _ O', '3 _ _ O', 'years _ _ O', '. _ _ O', '', ''], ['it _ _ O', 'was _ _ O', 'described _ _ O', 'by _ _ O', 'stephan _ _ B-OtherPER', 'von _ _ I-OtherPER', 'breuning _ _ I-OtherPER', '. _ _ O', '', ''], ['january _ _ O', '7 _ _ O', '1986 _ _ O', '( _ _ O', 'res _ _ O', '. _ _ O', ') _ _ O', ': _ _ O', 'walter _ _ B-OtherPER', 'koerner _ _ I-OtherPER', 'businessman _ _ O', 'and _ _ O', 'philanthropist _ _ O', '', ''], ['the _ _ O', 'gardens _ _ O', 'were _ _ O', 'designed _ _ O', 'by _ _ O', 'noted _ _ O', 'landscape _ _ O', 'architect _ _ O', 'charles _ _ B-OtherPER', 'gillette _ _ I-OtherPER', '. _ _ O', '', ''], ['lady _ _ B-VisualWork', 'in _ _ I-VisualWork', 'the _ _ I-VisualWork', 'dark _ _ I-VisualWork', '– _ _ O', 'art _ _ O', 'direction _ _ O', ': _ _ O', 'hans _ _ B-Artist', 'dreier _ _ I-Artist', 'and _ _ O', 'raoul _ _ B-Artist', 'pene _ _ I-Artist', 'du _ _ I-Artist', 'bois _ _ I-Artist', '; _ _ O', 'interior _ _ O', 'decoration _ _ O', ': _ _ O', 'ray _ _ B-OtherPER', 'moyer _ _ I-OtherPER', '', ''], ['buxbaum _ _ O', 'in _ _ O', 'turn _ _ O', 'derived _ _ O', 'the _ _ O', 'name _ _ O', 'from _ _ O', 'johann _ _ B-OtherPER', 'bauhin _ _ I-OtherPER', 'who _ _ O', 'used _ _ O', 'it _ _ O', 'to _ _ O', 'mean _ _ O', 'having _ _ O', 'polium _ _ O', 'like _ _ O', 'leaves _ _ O', '. _ _ O', '', ''], ['many _ _ O', 'of _ _ O', 'these _ _ O', 'were _ _ O', 'designed _ _ O', 'by _ _ O', 'architectural _ _ O', 'partners _ _ O', 'ida _ _ B-OtherPER', 'annah _ _ I-OtherPER', 'ryan _ _ I-OtherPER', 'and _ _ O', 'isabel _ _ B-OtherPER', 'roberts _ _ I-OtherPER', '. _ _ O', '', ''], ['discovered _ _ O', 'by _ _ O', 'the _ _ O', 'spider-man _ _ B-OtherPER', 'of _ _ I-OtherPER', 'her _ _ I-OtherPER', 'time _ _ I-OtherPER', 'she _ _ O', 'releases _ _ O', 'mutated _ _ O', 'creatures _ _ O', 'to _ _ O', 'kill _ _ O', 'him _ _ O', '. _ _ O', '', ''], ['together _ _ O', 'with _ _ O', 'ted _ _ B-OtherPER', 'nelson _ _ I-OtherPER', 'he _ _ O', 'contributed _ _ O', 'to _ _ O', 'the _ _ O', 'first _ _ O', 'hypertext _ _ B-WrittenWork', 'system _ _ O', 'hypertext _ _ B-Software', 'editing _ _ I-Software', 'system _ _ I-Software', '( _ _ O', 'hes _ _ O', ') _ _ O', 'in _ _ O', 'the _ _ O', 'late _ _ O', '1960s _ _ O', '. _ _ O', '', ''], ['the _ _ O', 'genus _ _ O', 'was _ _ O', 'erected _ _ O', 'by _ _ O', 'maria _ _ B-OtherPER', 'alma _ _ I-OtherPER', 'solis _ _ I-OtherPER', 'et _ _ O', 'al _ _ O', '. _ _ O', 'in _ _ O', '2005 _ _ O', '. _ _ O', '', ''], ['a _ _ O', 'former _ _ O', 'altarpiece _ _ O', 'painting _ _ O', 'was _ _ O', 'produced _ _ O', 'by _ _ O', 'the _ _ O', 'animal _ _ O', 'painter _ _ O', 'christian _ _ B-OtherPER', 'david _ _ I-OtherPER', 'gebauer _ _ I-OtherPER', '. _ _ O', '', ''], ['directing _ _ O', 'animator _ _ O', 'milt _ _ B-OtherPER', 'kahl _ _ I-OtherPER', 'had _ _ O', 'designed _ _ O', 'the _ _ O', 'characters _ _ O', 'but _ _ O', 'he _ _ O', 'was _ _ O', 'angered _ _ O', 'over _ _ O', 'the _ _ O', 'inconsistencies _ _ O', 'in _ _ O', 'the _ _ O', 'character _ _ O', 'animation _ _ O', '. _ _ O', '', ''], ['walery _ _ B-OtherPER', 'rzewuski _ _ I-OtherPER', '( _ _ O', '1837 _ _ O', '1888 _ _ O', ') _ _ O', 'early _ _ O', 'portrait _ _ O', 'photographer _ _ O', 'alderman _ _ O', 'of _ _ O', 'kraków _ _ B-HumanSettlement', '', ''], ['the _ _ O', 'species _ _ O', 'was _ _ O', 'first _ _ B-WrittenWork', 'described _ _ I-WrittenWork', 'by _ _ O', 'achille _ _ B-OtherPER', 'guenée _ _ I-OtherPER', 'in _ _ O', '1857 _ _ O', '. _ _ O', '', ''], ['cover _ _ O', 'of _ _ O', 'the _ _ O', 'psychological _ _ O', 'clinic _ _ O', 'the _ _ O', 'first _ _ O', 'journal _ _ O', 'of _ _ O', 'clinical _ _ O', 'psychology _ _ O', 'published _ _ O', 'in _ _ O', '1907 _ _ O', 'by _ _ O', 'lightner _ _ B-OtherPER', 'witmer _ _ I-OtherPER', '', ''], ['he _ _ O', 'was _ _ O', 'replaced _ _ O', 'by _ _ O', 'promotional _ _ O', 'newcomer _ _ O', 'sabah _ _ B-OtherPER', 'homasi _ _ I-OtherPER', '. _ _ O', '', ''], ['it _ _ O', 'was _ _ O', 'described _ _ O', 'by _ _ O', 'edward _ _ B-OtherPER', 'meyrick _ _ I-OtherPER', 'in _ _ O', '1887 _ _ O', '. _ _ O', '', ''], ['in _ _ O', 'the _ _ O', 'eighteenth _ _ O', 'century _ _ O', 'maria _ _ B-OtherPER', 'theresa _ _ I-OtherPER', 'decided _ _ O', 'to _ _ O', 'stop _ _ O', 'the _ _ O', 'sand _ _ O', 'winds _ _ O', 'by _ _ O', 'afforestation _ _ O', '. _ _ O', '', '']]\n"
          ]
        }
      ],
      "source": [
        "# Splitting sentences\n",
        "array=[]\n",
        "c=[]\n",
        "for i in sentences:\n",
        "    if i.startswith(\"# id\"):\n",
        "        array.append(c)\n",
        "        c=[]\n",
        "    else:\n",
        "        c.append(i)\n",
        "array = [subarray for subarray in array if subarray]\n",
        "print(array[0:50])\n",
        "        "
      ]
    },
    {
      "cell_type": "code",
      "execution_count": null,
      "id": "ab9e1d02",
      "metadata": {
        "id": "ab9e1d02"
      },
      "outputs": [],
      "source": []
    },
    {
      "cell_type": "code",
      "execution_count": null,
      "id": "936a23e1",
      "metadata": {
        "colab": {
          "base_uri": "https://localhost:8080/"
        },
        "id": "936a23e1",
        "outputId": "f9bc9996-5623-420a-cdec-f737a1fb3c46"
      },
      "outputs": [
        {
          "output_type": "stream",
          "name": "stdout",
          "text": [
            "[['robert', 'gottschalk', '1939', 'academy', 'award', 'winner', 'and', 'founder', 'of', 'panavision'], ['during', 'the', 'reign', 'of', 'the', 'tongzhi', 'emperor', '(', 'r', '.', '1861', '–', '1875', ')', ':'], ['further', 'research', 'led', 'in', 'the', '1960s', 'to', 'the', 'bahadur', 'representation', 'which', 'provides', 'information', 'about', 'the', 'errorbounds', '.']]\n",
            "[['B-OtherPER', 'I-OtherPER', 'O', 'B-VisualWork', 'I-VisualWork', 'O', 'O', 'O', 'O', 'B-ORG'], ['O', 'O', 'O', 'O', 'O', 'B-OtherPER', 'I-OtherPER', 'O', 'O', 'O', 'O', 'O', 'O', 'O', 'O'], ['O', 'O', 'O', 'O', 'O', 'O', 'O', 'O', 'B-OtherPER', 'O', 'O', 'O', 'O', 'O', 'O', 'O', 'O']]\n"
          ]
        }
      ],
      "source": [
        "dt=[]\n",
        "dl=[]\n",
        "for i in array:\n",
        "    #print(i)\n",
        "    cc=[]\n",
        "    tt=[]\n",
        "    for j in i:\n",
        "        if j!=\"\":\n",
        "            text=j.split(\" _ _ \")\n",
        "            cc.append(text[0])\n",
        "            tt.append(text[1])\n",
        "    dt.append(cc)\n",
        "    dl.append(tt)\n",
        "print(dt[0:3])\n",
        "print(dl[0:3])"
      ]
    },
    {
      "cell_type": "code",
      "execution_count": null,
      "id": "38898286",
      "metadata": {
        "colab": {
          "base_uri": "https://localhost:8080/"
        },
        "id": "38898286",
        "outputId": "0daf870e-a69f-41b2-e899-4792e078827d"
      },
      "outputs": [
        {
          "output_type": "execute_result",
          "data": {
            "text/plain": [
              "{'B-OtherPER': 0,\n",
              " 'I-OtherPER': 1,\n",
              " 'O': 2,\n",
              " 'B-VisualWork': 3,\n",
              " 'I-VisualWork': 4,\n",
              " 'B-ORG': 5,\n",
              " 'B-Artist': 6,\n",
              " 'I-Artist': 7,\n",
              " 'B-HumanSettlement': 8,\n",
              " 'B-WrittenWork': 9,\n",
              " 'B-Software': 10,\n",
              " 'I-Software': 11,\n",
              " 'I-WrittenWork': 12,\n",
              " 'B-Politician': 13,\n",
              " 'I-Politician': 14,\n",
              " 'B-Athlete': 15,\n",
              " 'I-Athlete': 16,\n",
              " 'B-MusicalWork': 17,\n",
              " 'I-MusicalWork': 18,\n",
              " 'I-HumanSettlement': 19,\n",
              " 'B-Facility': 20,\n",
              " 'I-Facility': 21,\n",
              " 'B-Scientist': 22,\n",
              " 'I-Scientist': 23,\n",
              " 'B-Cleric': 24,\n",
              " 'I-Cleric': 25,\n",
              " 'I-ORG': 26,\n",
              " 'B-SportsGRP': 27,\n",
              " 'B-MusicalGRP': 28,\n",
              " 'I-MusicalGRP': 29,\n",
              " 'B-SportsManager': 30,\n",
              " 'I-SportsManager': 31,\n",
              " 'B-PublicCorp': 32,\n",
              " 'I-PublicCorp': 33,\n",
              " 'B-OtherPROD': 34,\n",
              " 'B-MedicalProcedure': 35,\n",
              " 'I-MedicalProcedure': 36,\n",
              " 'B-ArtWork': 37,\n",
              " 'I-ArtWork': 38,\n",
              " 'B-Food': 39,\n",
              " 'I-Food': 40,\n",
              " 'B-Station': 41,\n",
              " 'I-Station': 42,\n",
              " 'I-OtherPROD': 43,\n",
              " 'B-CarManufacturer': 44,\n",
              " 'B-OtherLOC': 45,\n",
              " 'I-OtherLOC': 46,\n",
              " 'B-PrivateCorp': 47,\n",
              " 'I-SportsGRP': 48,\n",
              " 'B-Disease': 49,\n",
              " 'B-Vehicle': 50,\n",
              " 'I-Vehicle': 51,\n",
              " 'I-PrivateCorp': 52,\n",
              " 'B-Medication/Vaccine': 53,\n",
              " 'B-Symptom': 54,\n",
              " 'I-Medication/Vaccine': 55,\n",
              " 'I-Disease': 56,\n",
              " 'B-AnatomicalStructure': 57,\n",
              " 'I-AnatomicalStructure': 58,\n",
              " 'I-Symptom': 59,\n",
              " 'B-AerospaceManufacturer': 60,\n",
              " 'I-CarManufacturer': 61,\n",
              " 'B-Drink': 62,\n",
              " 'I-Drink': 63,\n",
              " 'B-Clothing': 64,\n",
              " 'I-AerospaceManufacturer': 65,\n",
              " 'I-Clothing': 66,\n",
              " 'PAD': 67}"
            ]
          },
          "metadata": {},
          "execution_count": 399
        }
      ],
      "source": [
        "tag_values=[]\n",
        "for i in dl:\n",
        "    for j in i:\n",
        "        if j not in tag_values:\n",
        "            tag_values.append(j)\n",
        "tag_values.append(\"PAD\")\n",
        "tag2idx = {t: i for i, t in enumerate(tag_values)}\n",
        "tag2idx"
      ]
    },
    {
      "cell_type": "code",
      "source": [
        "# !pip install torch"
      ],
      "metadata": {
        "colab": {
          "base_uri": "https://localhost:8080/"
        },
        "id": "a_lpSEPbpTuN",
        "outputId": "9ad6b1b4-c53a-4758-ed21-65b1c080a542"
      },
      "id": "a_lpSEPbpTuN",
      "execution_count": null,
      "outputs": [
        {
          "output_type": "stream",
          "name": "stdout",
          "text": [
            "Looking in indexes: https://pypi.org/simple, https://us-python.pkg.dev/colab-wheels/public/simple/\n",
            "Requirement already satisfied: torch in /usr/local/lib/python3.10/dist-packages (2.0.0+cu118)\n",
            "Requirement already satisfied: filelock in /usr/local/lib/python3.10/dist-packages (from torch) (3.12.0)\n",
            "Requirement already satisfied: typing-extensions in /usr/local/lib/python3.10/dist-packages (from torch) (4.5.0)\n",
            "Requirement already satisfied: sympy in /usr/local/lib/python3.10/dist-packages (from torch) (1.11.1)\n",
            "Requirement already satisfied: networkx in /usr/local/lib/python3.10/dist-packages (from torch) (3.1)\n",
            "Requirement already satisfied: jinja2 in /usr/local/lib/python3.10/dist-packages (from torch) (3.1.2)\n",
            "Requirement already satisfied: triton==2.0.0 in /usr/local/lib/python3.10/dist-packages (from torch) (2.0.0)\n",
            "Requirement already satisfied: cmake in /usr/local/lib/python3.10/dist-packages (from triton==2.0.0->torch) (3.25.2)\n",
            "Requirement already satisfied: lit in /usr/local/lib/python3.10/dist-packages (from triton==2.0.0->torch) (16.0.3)\n",
            "Requirement already satisfied: MarkupSafe>=2.0 in /usr/local/lib/python3.10/dist-packages (from jinja2->torch) (2.1.2)\n",
            "Requirement already satisfied: mpmath>=0.19 in /usr/local/lib/python3.10/dist-packages (from sympy->torch) (1.3.0)\n"
          ]
        }
      ]
    },
    {
      "cell_type": "code",
      "source": [
        "# !pip install transformers"
      ],
      "metadata": {
        "colab": {
          "base_uri": "https://localhost:8080/"
        },
        "id": "KnnNXN8WpyTh",
        "outputId": "fdeae9f3-bfa3-4c5d-e054-d04c52926bec"
      },
      "id": "KnnNXN8WpyTh",
      "execution_count": null,
      "outputs": [
        {
          "output_type": "stream",
          "name": "stdout",
          "text": [
            "Looking in indexes: https://pypi.org/simple, https://us-python.pkg.dev/colab-wheels/public/simple/\n",
            "Requirement already satisfied: transformers in /usr/local/lib/python3.10/dist-packages (4.29.0)\n",
            "Requirement already satisfied: filelock in /usr/local/lib/python3.10/dist-packages (from transformers) (3.12.0)\n",
            "Requirement already satisfied: huggingface-hub<1.0,>=0.11.0 in /usr/local/lib/python3.10/dist-packages (from transformers) (0.14.1)\n",
            "Requirement already satisfied: numpy>=1.17 in /usr/local/lib/python3.10/dist-packages (from transformers) (1.22.4)\n",
            "Requirement already satisfied: packaging>=20.0 in /usr/local/lib/python3.10/dist-packages (from transformers) (23.1)\n",
            "Requirement already satisfied: pyyaml>=5.1 in /usr/local/lib/python3.10/dist-packages (from transformers) (6.0)\n",
            "Requirement already satisfied: regex!=2019.12.17 in /usr/local/lib/python3.10/dist-packages (from transformers) (2022.10.31)\n",
            "Requirement already satisfied: requests in /usr/local/lib/python3.10/dist-packages (from transformers) (2.27.1)\n",
            "Requirement already satisfied: tokenizers!=0.11.3,<0.14,>=0.11.1 in /usr/local/lib/python3.10/dist-packages (from transformers) (0.13.3)\n",
            "Requirement already satisfied: tqdm>=4.27 in /usr/local/lib/python3.10/dist-packages (from transformers) (4.65.0)\n",
            "Requirement already satisfied: fsspec in /usr/local/lib/python3.10/dist-packages (from huggingface-hub<1.0,>=0.11.0->transformers) (2023.4.0)\n",
            "Requirement already satisfied: typing-extensions>=3.7.4.3 in /usr/local/lib/python3.10/dist-packages (from huggingface-hub<1.0,>=0.11.0->transformers) (4.5.0)\n",
            "Requirement already satisfied: urllib3<1.27,>=1.21.1 in /usr/local/lib/python3.10/dist-packages (from requests->transformers) (1.26.15)\n",
            "Requirement already satisfied: certifi>=2017.4.17 in /usr/local/lib/python3.10/dist-packages (from requests->transformers) (2022.12.7)\n",
            "Requirement already satisfied: charset-normalizer~=2.0.0 in /usr/local/lib/python3.10/dist-packages (from requests->transformers) (2.0.12)\n",
            "Requirement already satisfied: idna<4,>=2.5 in /usr/local/lib/python3.10/dist-packages (from requests->transformers) (3.4)\n"
          ]
        }
      ]
    },
    {
      "cell_type": "code",
      "execution_count": null,
      "id": "83b85d34",
      "metadata": {
        "colab": {
          "base_uri": "https://localhost:8080/",
          "height": 35
        },
        "id": "83b85d34",
        "outputId": "a202368d-7cf3-4453-b1fd-f0436517ff64"
      },
      "outputs": [
        {
          "output_type": "execute_result",
          "data": {
            "text/plain": [
              "'2.0.0+cu118'"
            ],
            "application/vnd.google.colaboratory.intrinsic+json": {
              "type": "string"
            }
          },
          "metadata": {},
          "execution_count": 402
        }
      ],
      "source": [
        "import torch\n",
        "from torch.utils.data import TensorDataset, DataLoader, RandomSampler, SequentialSampler\n",
        "from transformers import BertTokenizer, BertConfig\n",
        "\n",
        "from tensorflow.keras.preprocessing.sequence import pad_sequences\n",
        "from sklearn.model_selection import train_test_split\n",
        "\n",
        "torch.__version__\n"
      ]
    },
    {
      "cell_type": "code",
      "execution_count": null,
      "id": "0a11f40d",
      "metadata": {
        "id": "0a11f40d"
      },
      "outputs": [],
      "source": [
        "Max_length = 75\n",
        "batch_size = 32"
      ]
    },
    {
      "cell_type": "code",
      "execution_count": null,
      "id": "d6e1395f",
      "metadata": {
        "colab": {
          "base_uri": "https://localhost:8080/"
        },
        "id": "d6e1395f",
        "outputId": "0e8961fe-1489-44cf-bc3f-971a85e72b5f"
      },
      "outputs": [
        {
          "output_type": "stream",
          "name": "stdout",
          "text": [
            "Looking in indexes: https://pypi.org/simple, https://us-python.pkg.dev/colab-wheels/public/simple/\n",
            "Looking in links: https://download.pytorch.org/whl/cu111/torch_stable.html\n",
            "Requirement already satisfied: torch in /usr/local/lib/python3.10/dist-packages (2.0.0+cu118)\n",
            "Requirement already satisfied: torchvision in /usr/local/lib/python3.10/dist-packages (0.15.1+cu118)\n",
            "Requirement already satisfied: torchaudio in /usr/local/lib/python3.10/dist-packages (2.0.1+cu118)\n",
            "Requirement already satisfied: filelock in /usr/local/lib/python3.10/dist-packages (from torch) (3.12.0)\n",
            "Requirement already satisfied: typing-extensions in /usr/local/lib/python3.10/dist-packages (from torch) (4.5.0)\n",
            "Requirement already satisfied: sympy in /usr/local/lib/python3.10/dist-packages (from torch) (1.11.1)\n",
            "Requirement already satisfied: networkx in /usr/local/lib/python3.10/dist-packages (from torch) (3.1)\n",
            "Requirement already satisfied: jinja2 in /usr/local/lib/python3.10/dist-packages (from torch) (3.1.2)\n",
            "Requirement already satisfied: triton==2.0.0 in /usr/local/lib/python3.10/dist-packages (from torch) (2.0.0)\n",
            "Requirement already satisfied: cmake in /usr/local/lib/python3.10/dist-packages (from triton==2.0.0->torch) (3.25.2)\n",
            "Requirement already satisfied: lit in /usr/local/lib/python3.10/dist-packages (from triton==2.0.0->torch) (16.0.3)\n",
            "Requirement already satisfied: numpy in /usr/local/lib/python3.10/dist-packages (from torchvision) (1.22.4)\n",
            "Requirement already satisfied: requests in /usr/local/lib/python3.10/dist-packages (from torchvision) (2.27.1)\n",
            "Requirement already satisfied: pillow!=8.3.*,>=5.3.0 in /usr/local/lib/python3.10/dist-packages (from torchvision) (8.4.0)\n",
            "Requirement already satisfied: MarkupSafe>=2.0 in /usr/local/lib/python3.10/dist-packages (from jinja2->torch) (2.1.2)\n",
            "Requirement already satisfied: urllib3<1.27,>=1.21.1 in /usr/local/lib/python3.10/dist-packages (from requests->torchvision) (1.26.15)\n",
            "Requirement already satisfied: certifi>=2017.4.17 in /usr/local/lib/python3.10/dist-packages (from requests->torchvision) (2022.12.7)\n",
            "Requirement already satisfied: charset-normalizer~=2.0.0 in /usr/local/lib/python3.10/dist-packages (from requests->torchvision) (2.0.12)\n",
            "Requirement already satisfied: idna<4,>=2.5 in /usr/local/lib/python3.10/dist-packages (from requests->torchvision) (3.4)\n",
            "Requirement already satisfied: mpmath>=0.19 in /usr/local/lib/python3.10/dist-packages (from sympy->torch) (1.3.0)\n"
          ]
        }
      ],
      "source": [
        "# !pip install torch torchvision torchaudio -f https://download.pytorch.org/whl/cu111/torch_stable.html"
      ]
    },
    {
      "cell_type": "code",
      "execution_count": null,
      "id": "74807c3c",
      "metadata": {
        "id": "74807c3c"
      },
      "outputs": [],
      "source": []
    },
    {
      "cell_type": "code",
      "execution_count": null,
      "id": "7f6e74d1",
      "metadata": {
        "colab": {
          "base_uri": "https://localhost:8080/",
          "height": 35
        },
        "id": "7f6e74d1",
        "outputId": "dd0c2dd0-595c-4309-9b6e-440a1ed209fe"
      },
      "outputs": [
        {
          "output_type": "execute_result",
          "data": {
            "text/plain": [
              "'Tesla T4'"
            ],
            "application/vnd.google.colaboratory.intrinsic+json": {
              "type": "string"
            }
          },
          "metadata": {},
          "execution_count": 405
        }
      ],
      "source": [
        "device = torch.device(\"cuda\" if torch.cuda.is_available() else \"cpu\")\n",
        "n_gpu = torch.cuda.device_count()\n",
        "torch.cuda.get_device_name(0)"
      ]
    },
    {
      "cell_type": "code",
      "execution_count": null,
      "id": "4af747f9",
      "metadata": {
        "id": "4af747f9"
      },
      "outputs": [],
      "source": [
        "tokenizer = BertTokenizer.from_pretrained('bert-base-cased', do_lower_case=False) "
      ]
    },
    {
      "cell_type": "code",
      "execution_count": null,
      "id": "57ac5cb5",
      "metadata": {
        "id": "57ac5cb5"
      },
      "outputs": [],
      "source": [
        "def tokenize_and_preserve_labels(sentence, text_labels):\n",
        "    tokenized_sentence = []\n",
        "    labels = []\n",
        "\n",
        "    for word, label in zip(sentence, text_labels):\n",
        "        tokenized_word = tokenizer.tokenize(word)\n",
        "        n_subwords = len(tokenized_word)\n",
        "        tokenized_sentence.extend(tokenized_word)\n",
        "        labels.extend([label] * n_subwords)\n",
        "    return tokenized_sentence, labels"
      ]
    },
    {
      "cell_type": "code",
      "execution_count": null,
      "id": "a91ee6f4",
      "metadata": {
        "id": "a91ee6f4"
      },
      "outputs": [],
      "source": [
        "tokenized_texts_and_labels = [\n",
        "    tokenize_and_preserve_labels(sent, labs)\n",
        "    for sent, labs in zip(dt, dl)\n",
        "]"
      ]
    },
    {
      "cell_type": "code",
      "execution_count": null,
      "id": "258a3de2",
      "metadata": {
        "id": "258a3de2"
      },
      "outputs": [],
      "source": [
        "tokenized_texts = [token_label_pair[0] for token_label_pair in tokenized_texts_and_labels]\n",
        "labels = [token_label_pair[1] for token_label_pair in tokenized_texts_and_labels]\n"
      ]
    },
    {
      "cell_type": "code",
      "execution_count": null,
      "id": "01262241",
      "metadata": {
        "id": "01262241",
        "colab": {
          "base_uri": "https://localhost:8080/"
        },
        "outputId": "c35cb13f-dd65-4985-8d6f-4768c42177d6"
      },
      "outputs": [
        {
          "output_type": "execute_result",
          "data": {
            "text/plain": [
              "array([[    0,     0,     0, ..., 13316, 21704,  8427],\n",
              "       [    0,     0,     0, ...,  6932,   114,   131],\n",
              "       [    0,     0,     0, ...,  8346,  1116,   119],\n",
              "       ...,\n",
              "       [    0,     0,     0, ...,  2308,  4291,   119],\n",
              "       [    0,     0,     0, ...,  1266,  1701,   119],\n",
              "       [    0,     0,     0, ...,  1155, 13244,   119]])"
            ]
          },
          "metadata": {},
          "execution_count": 410
        }
      ],
      "source": [
        "input_ids = pad_sequences([tokenizer.convert_tokens_to_ids(txt) for txt in tokenized_texts],\n",
        "                          maxlen=Max_length, dtype=\"long\", value=0.0,\n",
        "                          truncating=\"pre\", padding=\"pre\")\n",
        "input_ids"
      ]
    },
    {
      "cell_type": "code",
      "execution_count": null,
      "id": "db0ce9db",
      "metadata": {
        "id": "db0ce9db",
        "colab": {
          "base_uri": "https://localhost:8080/"
        },
        "outputId": "5f79956c-fe68-4e31-f688-76499a970632"
      },
      "outputs": [
        {
          "output_type": "execute_result",
          "data": {
            "text/plain": [
              "array([[67, 67, 67, ...,  5,  5,  5],\n",
              "       [67, 67, 67, ...,  2,  2,  2],\n",
              "       [67, 67, 67, ...,  2,  2,  2],\n",
              "       ...,\n",
              "       [67, 67, 67, ...,  2,  2,  2],\n",
              "       [67, 67, 67, ..., 47, 52,  2],\n",
              "       [67, 67, 67, ..., 47, 47,  2]])"
            ]
          },
          "metadata": {},
          "execution_count": 411
        }
      ],
      "source": [
        "tags = pad_sequences([[tag2idx.get(l) for l in lab] for lab in labels],\n",
        "                     maxlen=Max_length, value=tag2idx[\"PAD\"], padding=\"pre\",\n",
        "                     dtype=\"long\", truncating=\"pre\")\n",
        "tags"
      ]
    },
    {
      "cell_type": "code",
      "execution_count": null,
      "id": "a31c5902",
      "metadata": {
        "id": "a31c5902"
      },
      "outputs": [],
      "source": [
        "attention_masks = [[float(i != 0.0) for i in ii] for ii in input_ids]\n"
      ]
    },
    {
      "cell_type": "code",
      "execution_count": null,
      "id": "a8afbda4",
      "metadata": {
        "id": "a8afbda4"
      },
      "outputs": [],
      "source": [
        "tr_inputs, val_inputs, tr_tags, val_tags = train_test_split(input_ids, tags,\n",
        "                                                            random_state=2018, test_size=0.2)\n",
        "tr_masks, val_masks, _, _ = train_test_split(attention_masks, input_ids,\n",
        "                                             random_state=2018, test_size=0.2)"
      ]
    },
    {
      "cell_type": "code",
      "execution_count": null,
      "id": "998615fb",
      "metadata": {
        "id": "998615fb"
      },
      "outputs": [],
      "source": [
        "# convert to torch tenors\n",
        "tr_inputs = torch.tensor(tr_inputs)\n",
        "val_inputs = torch.tensor(val_inputs)\n",
        "tr_tags = torch.tensor(tr_tags)\n",
        "val_tags = torch.tensor(val_tags)\n",
        "tr_masks = torch.tensor(tr_masks)\n",
        "val_masks = torch.tensor(val_masks)"
      ]
    },
    {
      "cell_type": "code",
      "execution_count": null,
      "id": "098c2f3e",
      "metadata": {
        "id": "098c2f3e"
      },
      "outputs": [],
      "source": [
        "# training time by shuffling of the data and testing time as we pass them sequentially\n",
        "train_data = TensorDataset(tr_inputs, tr_masks, tr_tags)\n",
        "train_sampler = RandomSampler(train_data)\n",
        "train_dataloader = DataLoader(train_data, sampler=train_sampler, batch_size=batch_size)\n",
        "valid_data = TensorDataset(val_inputs, val_masks, val_tags)\n",
        "valid_sampler = SequentialSampler(valid_data)\n",
        "valid_dataloader = DataLoader(valid_data, sampler=valid_sampler, batch_size=batch_size)"
      ]
    },
    {
      "cell_type": "code",
      "execution_count": null,
      "id": "538a1baf",
      "metadata": {
        "id": "538a1baf",
        "colab": {
          "base_uri": "https://localhost:8080/",
          "height": 35
        },
        "outputId": "6503b066-ece9-4869-ac92-2930908f66ac"
      },
      "outputs": [
        {
          "output_type": "execute_result",
          "data": {
            "text/plain": [
              "'4.29.0'"
            ],
            "application/vnd.google.colaboratory.intrinsic+json": {
              "type": "string"
            }
          },
          "metadata": {},
          "execution_count": 416
        }
      ],
      "source": [
        "import transformers\n",
        "from transformers import BertForTokenClassification, AdamW"
      ]
    },
    {
      "cell_type": "code",
      "execution_count": null,
      "id": "7645ba36",
      "metadata": {
        "id": "7645ba36",
        "colab": {
          "base_uri": "https://localhost:8080/"
        },
        "outputId": "4dad56ff-0d48-483c-9cef-c6454e6a5e88"
      },
      "outputs": [
        {
          "output_type": "stream",
          "name": "stderr",
          "text": [
            "Some weights of the model checkpoint at bert-base-cased were not used when initializing BertForTokenClassification: ['cls.predictions.transform.LayerNorm.bias', 'cls.predictions.bias', 'cls.seq_relationship.weight', 'cls.seq_relationship.bias', 'cls.predictions.transform.dense.weight', 'cls.predictions.decoder.weight', 'cls.predictions.transform.dense.bias', 'cls.predictions.transform.LayerNorm.weight']\n",
            "- This IS expected if you are initializing BertForTokenClassification from the checkpoint of a model trained on another task or with another architecture (e.g. initializing a BertForSequenceClassification model from a BertForPreTraining model).\n",
            "- This IS NOT expected if you are initializing BertForTokenClassification from the checkpoint of a model that you expect to be exactly identical (initializing a BertForSequenceClassification model from a BertForSequenceClassification model).\n",
            "Some weights of BertForTokenClassification were not initialized from the model checkpoint at bert-base-cased and are newly initialized: ['classifier.bias', 'classifier.weight']\n",
            "You should probably TRAIN this model on a down-stream task to be able to use it for predictions and inference.\n"
          ]
        }
      ],
      "source": [
        "model = BertForTokenClassification.from_pretrained(\n",
        "    \"bert-base-cased\",\n",
        "    num_labels=len(tag2idx),\n",
        "    output_attentions = True,\n",
        "    output_hidden_states = False\n",
        ")"
      ]
    },
    {
      "cell_type": "code",
      "execution_count": null,
      "id": "47882ea5",
      "metadata": {
        "id": "47882ea5"
      },
      "outputs": [],
      "source": [
        "model.cuda();"
      ]
    },
    {
      "cell_type": "code",
      "execution_count": null,
      "id": "f9bb1bab",
      "metadata": {
        "id": "f9bb1bab"
      },
      "outputs": [],
      "source": [
        "FULL_FINETUNING = True\n",
        "if FULL_FINETUNING:\n",
        "    param_optimizer = list(model.named_parameters())\n",
        "    no_decay = ['bias', 'gamma', 'beta']\n",
        "    optimizer_grouped_parameters = [\n",
        "        {'params': [p for n, p in param_optimizer if not any(nd in n for nd in no_decay)],\n",
        "         'weight_decay_rate': 0.01},\n",
        "        {'params': [p for n, p in param_optimizer if any(nd in n for nd in no_decay)],\n",
        "         'weight_decay_rate': 0.0}\n",
        "    ]\n",
        "else:\n",
        "    param_optimizer = list(model.classifier.named_parameters())\n",
        "    optimizer_grouped_parameters = [{\"params\": [p for n, p in param_optimizer]}]\n",
        "\n",
        "optimizer = torch.optim.AdamW(\n",
        "    optimizer_grouped_parameters,\n",
        "    lr=3e-5,\n",
        "    eps=1e-8\n",
        ")"
      ]
    },
    {
      "cell_type": "code",
      "execution_count": null,
      "id": "2986972c",
      "metadata": {
        "id": "2986972c"
      },
      "outputs": [],
      "source": [
        "# schduler to reduce learning rate linearly throughout the epochs\n",
        "from transformers import get_linear_schedule_with_warmup\n",
        "epochs = 10\n",
        "max_grad_norm = 1.0\n",
        "# Total number of training steps is number of batches * number of epochs.\n",
        "total_steps = len(train_dataloader) * epochs\n",
        "# Create the learning rate scheduler.\n",
        "scheduler = get_linear_schedule_with_warmup(\n",
        "    optimizer,\n",
        "    num_warmup_steps=0,\n",
        "    num_training_steps=total_steps\n",
        ")"
      ]
    },
    {
      "cell_type": "code",
      "execution_count": null,
      "id": "e19501cf",
      "metadata": {
        "id": "e19501cf",
        "colab": {
          "base_uri": "https://localhost:8080/"
        },
        "outputId": "51939bb5-f944-4dbb-a9db-591d4022ca02"
      },
      "outputs": [
        {
          "output_type": "stream",
          "name": "stdout",
          "text": [
            "Looking in indexes: https://pypi.org/simple, https://us-python.pkg.dev/colab-wheels/public/simple/\n",
            "Requirement already satisfied: seqeval in /usr/local/lib/python3.10/dist-packages (1.2.2)\n",
            "Requirement already satisfied: numpy>=1.14.0 in /usr/local/lib/python3.10/dist-packages (from seqeval) (1.22.4)\n",
            "Requirement already satisfied: scikit-learn>=0.21.3 in /usr/local/lib/python3.10/dist-packages (from seqeval) (1.2.2)\n",
            "Requirement already satisfied: scipy>=1.3.2 in /usr/local/lib/python3.10/dist-packages (from scikit-learn>=0.21.3->seqeval) (1.10.1)\n",
            "Requirement already satisfied: joblib>=1.1.1 in /usr/local/lib/python3.10/dist-packages (from scikit-learn>=0.21.3->seqeval) (1.2.0)\n",
            "Requirement already satisfied: threadpoolctl>=2.0.0 in /usr/local/lib/python3.10/dist-packages (from scikit-learn>=0.21.3->seqeval) (3.1.0)\n"
          ]
        }
      ],
      "source": [
        "# !pip install seqeval"
      ]
    },
    {
      "cell_type": "code",
      "execution_count": null,
      "id": "71927208",
      "metadata": {
        "id": "71927208"
      },
      "outputs": [],
      "source": [
        "from seqeval.metrics import f1_score\n",
        "\n",
        "def flat_accuracy(preds, labels):\n",
        "    pred_flat = np.argmax(preds, axis=2).flatten()\n",
        "    labels_flat = labels.flatten()\n",
        "    return np.sum(pred_flat == labels_flat) / len(labels_flat)"
      ]
    },
    {
      "cell_type": "code",
      "execution_count": null,
      "id": "f130030a",
      "metadata": {
        "id": "f130030a",
        "colab": {
          "base_uri": "https://localhost:8080/"
        },
        "outputId": "719962cb-2b84-440a-a08b-0bef0838ae47"
      },
      "outputs": [
        {
          "output_type": "stream",
          "name": "stderr",
          "text": [
            "\rEpoch:   0%|          | 0/10 [00:00<?, ?it/s]"
          ]
        },
        {
          "output_type": "stream",
          "name": "stdout",
          "text": [
            "Average train loss: 0.3749992466398648\n",
            "Validation loss: 0.1929098340727034\n",
            "Validation Accuracy: 0.9485374149659869\n"
          ]
        },
        {
          "output_type": "stream",
          "name": "stderr",
          "text": [
            "\rEpoch:  10%|█         | 1/10 [03:12<28:48, 192.04s/it]"
          ]
        },
        {
          "output_type": "stream",
          "name": "stdout",
          "text": [
            "Validation F1-Score: 0.45379580039105666\n",
            "\n",
            "Average train loss: 0.16069512099382424\n",
            "Validation loss: 0.1460823857358524\n",
            "Validation Accuracy: 0.9590912698412699\n"
          ]
        },
        {
          "output_type": "stream",
          "name": "stderr",
          "text": [
            "\rEpoch:  20%|██        | 2/10 [06:22<25:29, 191.22s/it]"
          ]
        },
        {
          "output_type": "stream",
          "name": "stdout",
          "text": [
            "Validation F1-Score: 0.5666596770811491\n",
            "\n",
            "Average train loss: 0.11114241125150806\n",
            "Validation loss: 0.1402423416574796\n",
            "Validation Accuracy: 0.9617035147392287\n"
          ]
        },
        {
          "output_type": "stream",
          "name": "stderr",
          "text": [
            "\rEpoch:  30%|███       | 3/10 [09:33<22:16, 190.95s/it]"
          ]
        },
        {
          "output_type": "stream",
          "name": "stdout",
          "text": [
            "Validation F1-Score: 0.5954485920104782\n",
            "\n",
            "Average train loss: 0.08162323070601338\n",
            "Validation loss: 0.14438022886003768\n",
            "Validation Accuracy: 0.9625323129251695\n"
          ]
        },
        {
          "output_type": "stream",
          "name": "stderr",
          "text": [
            "\rEpoch:  40%|████      | 4/10 [12:43<19:05, 190.85s/it]"
          ]
        },
        {
          "output_type": "stream",
          "name": "stdout",
          "text": [
            "Validation F1-Score: 0.6110814912028872\n",
            "\n",
            "Average train loss: 0.06151285312094149\n",
            "Validation loss: 0.1476619901401656\n",
            "Validation Accuracy: 0.9630255102040817\n"
          ]
        },
        {
          "output_type": "stream",
          "name": "stderr",
          "text": [
            "\rEpoch:  50%|█████     | 5/10 [15:54<15:53, 190.79s/it]"
          ]
        },
        {
          "output_type": "stream",
          "name": "stdout",
          "text": [
            "Validation F1-Score: 0.610878661087866\n",
            "\n",
            "Average train loss: 0.046440267185902315\n",
            "Validation loss: 0.1520855948328972\n",
            "Validation Accuracy: 0.9636700680272108\n"
          ]
        },
        {
          "output_type": "stream",
          "name": "stderr",
          "text": [
            "\rEpoch:  60%|██████    | 6/10 [19:05<12:42, 190.74s/it]"
          ]
        },
        {
          "output_type": "stream",
          "name": "stdout",
          "text": [
            "Validation F1-Score: 0.6320651513309833\n",
            "\n",
            "Average train loss: 0.036399157870826974\n",
            "Validation loss: 0.1594133110273452\n",
            "Validation Accuracy: 0.963724489795918\n"
          ]
        },
        {
          "output_type": "stream",
          "name": "stderr",
          "text": [
            "\rEpoch:  70%|███████   | 7/10 [22:15<09:32, 190.70s/it]"
          ]
        },
        {
          "output_type": "stream",
          "name": "stdout",
          "text": [
            "Validation F1-Score: 0.6278131806082117\n",
            "\n",
            "Average train loss: 0.02921092329724204\n",
            "Validation loss: 0.162236208149365\n",
            "Validation Accuracy: 0.9644297052154194\n"
          ]
        },
        {
          "output_type": "stream",
          "name": "stderr",
          "text": [
            "\rEpoch:  80%|████████  | 8/10 [25:26<06:21, 190.65s/it]"
          ]
        },
        {
          "output_type": "stream",
          "name": "stdout",
          "text": [
            "Validation F1-Score: 0.6336327791553189\n",
            "\n",
            "Average train loss: 0.02453946256344872\n",
            "Validation loss: 0.16703350927148547\n",
            "Validation Accuracy: 0.9639744897959185\n"
          ]
        },
        {
          "output_type": "stream",
          "name": "stderr",
          "text": [
            "\rEpoch:  90%|█████████ | 9/10 [28:37<03:10, 190.65s/it]"
          ]
        },
        {
          "output_type": "stream",
          "name": "stdout",
          "text": [
            "Validation F1-Score: 0.6287430008926399\n",
            "\n",
            "Average train loss: 0.021199388165647783\n",
            "Validation loss: 0.16955448374861762\n",
            "Validation Accuracy: 0.9641048752834467\n"
          ]
        },
        {
          "output_type": "stream",
          "name": "stderr",
          "text": [
            "Epoch: 100%|██████████| 10/10 [31:47<00:00, 190.76s/it]"
          ]
        },
        {
          "output_type": "stream",
          "name": "stdout",
          "text": [
            "Validation F1-Score: 0.6321895027176118\n",
            "\n"
          ]
        },
        {
          "output_type": "stream",
          "name": "stderr",
          "text": [
            "\n"
          ]
        }
      ],
      "source": [
        "from tqdm import tqdm, trange\n",
        "# Store the average loss after each epoch, for plotting\n",
        "loss_values, validation_loss_values = [], []\n",
        "\n",
        "for _ in trange(epochs, desc=\"Epoch\"):\n",
        "    # Training\n",
        "    # Putting the model into training mode.\n",
        "    model.train()\n",
        "    total_loss = 0\n",
        "    # Training using loop\n",
        "    for step, batch in enumerate(train_dataloader):\n",
        "        batch = tuple(t.to(device) for t in batch)\n",
        "        b_input_ids, b_input_mask, b_labels = batch\n",
        "        model.zero_grad()\n",
        "        # because we have provide\n",
        "        outputs = model(b_input_ids, token_type_ids=None,\n",
        "                        attention_mask=b_input_mask, labels=b_labels)\n",
        "        # loss\n",
        "        loss = outputs[0]\n",
        "        # Perform a backward pass, calculate gradients\n",
        "        loss.backward()\n",
        "        total_loss += loss.item()\n",
        "        torch.nn.utils.clip_grad_norm_(parameters=model.parameters(), max_norm=max_grad_norm)\n",
        "        # parameter update\n",
        "        optimizer.step()\n",
        "        # learning rate update\n",
        "        scheduler.step()\n",
        "\n",
        "    # average loss over the training data\n",
        "    avg_train_loss = total_loss / len(train_dataloader)\n",
        "    print(\"Average train loss: {}\".format(avg_train_loss))\n",
        "    loss_values.append(avg_train_loss)\n",
        "\n",
        "\n",
        "    # Validation\n",
        "    model.eval()\n",
        "    eval_loss, eval_accuracy = 0, 0\n",
        "    nb_eval_steps, nb_eval_examples = 0, 0\n",
        "    predictions , true_labels = [], []\n",
        "    for batch in valid_dataloader:\n",
        "        batch = tuple(t.to(device) for t in batch)\n",
        "        b_input_ids, b_input_mask, b_labels = batch\n",
        "        with torch.no_grad():\n",
        "            outputs = model(b_input_ids, token_type_ids=None,\n",
        "                            attention_mask=b_input_mask, labels=b_labels)\n",
        "        logits = outputs[1].detach().cpu().numpy()\n",
        "        label_ids = b_labels.to('cpu').numpy()\n",
        "\n",
        "        # Calculating the accuracy for this batch of test sentences\n",
        "        eval_loss += outputs[0].mean().item()\n",
        "        eval_accuracy += flat_accuracy(logits, label_ids)\n",
        "        predictions.extend([list(p) for p in np.argmax(logits, axis=2)])\n",
        "        true_labels.extend(label_ids)\n",
        "\n",
        "        nb_eval_examples += b_input_ids.size(0)\n",
        "        nb_eval_steps += 1\n",
        "\n",
        "    eval_loss = eval_loss / nb_eval_steps\n",
        "    validation_loss_values.append(eval_loss)\n",
        "    print(\"Validation loss: {}\".format(eval_loss))\n",
        "    print(\"Validation Accuracy: {}\".format(eval_accuracy/nb_eval_steps))\n",
        "    pred_tags = [tag_values[p_i] for p, l in zip(predictions, true_labels)\n",
        "                                 for p_i, l_i in zip(p, l) if tag_values[l_i] != \"PAD\"]\n",
        "    valid_tags = [tag_values[l_i] for l in true_labels\n",
        "                                  for l_i in l if tag_values[l_i] != \"PAD\"]\n",
        "    print(\"Validation F1-Score: {}\".format(f1_score([pred_tags], [valid_tags])))\n",
        "    print()"
      ]
    },
    {
      "cell_type": "code",
      "execution_count": null,
      "id": "4ea4155d",
      "metadata": {
        "id": "4ea4155d",
        "colab": {
          "base_uri": "https://localhost:8080/",
          "height": 592
        },
        "outputId": "ae180f48-935f-48cf-a638-d766a0c556e9"
      },
      "outputs": [
        {
          "output_type": "display_data",
          "data": {
            "text/plain": [
              "<Figure size 1200x600 with 1 Axes>"
            ],
            "image/png": "[encoded data removed]"
          },
          "metadata": {}
        }
      ],
      "source": [
        "import matplotlib.pyplot as plt\n",
        "%matplotlib inline\n",
        "\n",
        "import seaborn as sns\n",
        "sns.set(style='darkgrid')\n",
        "sns.set(font_scale=1.5)\n",
        "plt.rcParams[\"figure.figsize\"] = (12,6)\n",
        "plt.plot(loss_values, 'b-o', label=\"training loss\")\n",
        "plt.plot(validation_loss_values, 'r-o', label=\"validation loss\")\n",
        "plt.title(\"Learning curve\")\n",
        "plt.xlabel(\"Epoch\")\n",
        "plt.ylabel(\"Loss\")\n",
        "plt.legend()\n",
        "\n",
        "plt.show()"
      ]
    },
    {
      "cell_type": "code",
      "execution_count": null,
      "id": "6fe1853d",
      "metadata": {
        "id": "6fe1853d"
      },
      "outputs": [],
      "source": []
    }
  ],
  "metadata": {
    "kernelspec": {
      "display_name": "Python 3 (ipykernel)",
      "language": "python",
      "name": "python3"
    },
    "language_info": {
      "codemirror_mode": {
        "name": "ipython",
        "version": 3
      },
      "file_extension": ".py",
      "mimetype": "text/x-python",
      "name": "python",
      "nbconvert_exporter": "python",
      "pygments_lexer": "ipython3",
      "version": "3.10.9"
    },
    "colab": {
      "provenance": [],
      "gpuType": "T4"
    },
    "accelerator": "GPU",
    "gpuClass": "standard"
  },
  "nbformat": 4,
  "nbformat_minor": 5
}